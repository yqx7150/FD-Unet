{
 "cells": [
  {
   "cell_type": "code",
   "execution_count": 2,
   "metadata": {},
   "outputs": [
    {
     "name": "stderr",
     "output_type": "stream",
     "text": [
      "C:\\Users\\HP\\AppData\\Roaming\\Python\\Python38\\site-packages\\skimage\\io\\manage_plugins.py:23: UserWarning: Your installed pillow version is < 8.1.2. Several security issues (CVE-2021-27921, CVE-2021-25290, CVE-2021-25291, CVE-2021-25293, and more) have been fixed in pillow 8.1.2 or higher. We recommend to upgrade this library.\n",
      "  from .collection import imread_collection_wrapper\n"
     ]
    },
    {
     "ename": "ImportError",
     "evalue": "cannot import name 'is_path' from 'PIL._util' (c:\\users\\hp\\appdata\\local\\programs\\python\\python38\\lib\\site-packages\\PIL\\_util.py)",
     "output_type": "error",
     "traceback": [
      "\u001b[1;31m---------------------------------------------------------------------------\u001b[0m",
      "\u001b[1;31mImportError\u001b[0m                               Traceback (most recent call last)",
      "\u001b[1;32m<ipython-input-2-64e7a15da700>\u001b[0m in \u001b[0;36m<module>\u001b[1;34m\u001b[0m\n\u001b[0;32m      6\u001b[0m \u001b[1;32mfrom\u001b[0m \u001b[0mskimage\u001b[0m\u001b[1;33m.\u001b[0m\u001b[0mio\u001b[0m \u001b[1;32mimport\u001b[0m \u001b[0mimread\u001b[0m\u001b[1;33m,\u001b[0m \u001b[0mimshow\u001b[0m\u001b[1;33m,\u001b[0m\u001b[0mimsave\u001b[0m\u001b[1;33m\u001b[0m\u001b[1;33m\u001b[0m\u001b[0m\n\u001b[0;32m      7\u001b[0m \u001b[1;32mfrom\u001b[0m \u001b[0mskimage\u001b[0m\u001b[1;33m.\u001b[0m\u001b[0mtransform\u001b[0m \u001b[1;32mimport\u001b[0m \u001b[0mresize\u001b[0m\u001b[1;33m\u001b[0m\u001b[1;33m\u001b[0m\u001b[0m\n\u001b[1;32m----> 8\u001b[1;33m \u001b[1;32mimport\u001b[0m \u001b[0mmatplotlib\u001b[0m\u001b[1;33m.\u001b[0m\u001b[0mpyplot\u001b[0m \u001b[1;32mas\u001b[0m \u001b[0mplt\u001b[0m\u001b[1;33m\u001b[0m\u001b[1;33m\u001b[0m\u001b[0m\n\u001b[0m\u001b[0;32m      9\u001b[0m \u001b[1;32mfrom\u001b[0m \u001b[0mskimage\u001b[0m \u001b[1;32mimport\u001b[0m \u001b[0mtransform\u001b[0m\u001b[1;33m\u001b[0m\u001b[1;33m\u001b[0m\u001b[0m\n",
      "\u001b[1;32mc:\\users\\hp\\appdata\\local\\programs\\python\\python38\\lib\\site-packages\\matplotlib\\pyplot.py\u001b[0m in \u001b[0;36m<module>\u001b[1;34m\u001b[0m\n\u001b[0;32m     35\u001b[0m \u001b[1;32mimport\u001b[0m \u001b[0mmatplotlib\u001b[0m\u001b[1;33m\u001b[0m\u001b[1;33m\u001b[0m\u001b[0m\n\u001b[0;32m     36\u001b[0m \u001b[1;32mimport\u001b[0m \u001b[0mmatplotlib\u001b[0m\u001b[1;33m.\u001b[0m\u001b[0mcolorbar\u001b[0m\u001b[1;33m\u001b[0m\u001b[1;33m\u001b[0m\u001b[0m\n\u001b[1;32m---> 37\u001b[1;33m \u001b[1;32mimport\u001b[0m \u001b[0mmatplotlib\u001b[0m\u001b[1;33m.\u001b[0m\u001b[0mimage\u001b[0m\u001b[1;33m\u001b[0m\u001b[1;33m\u001b[0m\u001b[0m\n\u001b[0m\u001b[0;32m     38\u001b[0m \u001b[1;32mfrom\u001b[0m \u001b[0mmatplotlib\u001b[0m \u001b[1;32mimport\u001b[0m \u001b[0mrcsetup\u001b[0m\u001b[1;33m,\u001b[0m \u001b[0mstyle\u001b[0m\u001b[1;33m\u001b[0m\u001b[1;33m\u001b[0m\u001b[0m\n\u001b[0;32m     39\u001b[0m \u001b[1;32mfrom\u001b[0m \u001b[0mmatplotlib\u001b[0m \u001b[1;32mimport\u001b[0m \u001b[0m_pylab_helpers\u001b[0m\u001b[1;33m,\u001b[0m \u001b[0minteractive\u001b[0m\u001b[1;33m\u001b[0m\u001b[1;33m\u001b[0m\u001b[0m\n",
      "\u001b[1;32mc:\\users\\hp\\appdata\\local\\programs\\python\\python38\\lib\\site-packages\\matplotlib\\image.py\u001b[0m in \u001b[0;36m<module>\u001b[1;34m\u001b[0m\n\u001b[0;32m     11\u001b[0m \u001b[1;33m\u001b[0m\u001b[0m\n\u001b[0;32m     12\u001b[0m \u001b[1;32mimport\u001b[0m \u001b[0mnumpy\u001b[0m \u001b[1;32mas\u001b[0m \u001b[0mnp\u001b[0m\u001b[1;33m\u001b[0m\u001b[1;33m\u001b[0m\u001b[0m\n\u001b[1;32m---> 13\u001b[1;33m \u001b[1;32mimport\u001b[0m \u001b[0mPIL\u001b[0m\u001b[1;33m.\u001b[0m\u001b[0mPngImagePlugin\u001b[0m\u001b[1;33m\u001b[0m\u001b[1;33m\u001b[0m\u001b[0m\n\u001b[0m\u001b[0;32m     14\u001b[0m \u001b[1;33m\u001b[0m\u001b[0m\n\u001b[0;32m     15\u001b[0m \u001b[1;32mimport\u001b[0m \u001b[0mmatplotlib\u001b[0m \u001b[1;32mas\u001b[0m \u001b[0mmpl\u001b[0m\u001b[1;33m\u001b[0m\u001b[1;33m\u001b[0m\u001b[0m\n",
      "\u001b[1;32mc:\\users\\hp\\appdata\\local\\programs\\python\\python38\\lib\\site-packages\\PIL\\PngImagePlugin.py\u001b[0m in \u001b[0;36m<module>\u001b[1;34m\u001b[0m\n\u001b[0;32m     40\u001b[0m \u001b[1;32mfrom\u001b[0m \u001b[0menum\u001b[0m \u001b[1;32mimport\u001b[0m \u001b[0mIntEnum\u001b[0m\u001b[1;33m\u001b[0m\u001b[1;33m\u001b[0m\u001b[0m\n\u001b[0;32m     41\u001b[0m \u001b[1;33m\u001b[0m\u001b[0m\n\u001b[1;32m---> 42\u001b[1;33m \u001b[1;32mfrom\u001b[0m \u001b[1;33m.\u001b[0m \u001b[1;32mimport\u001b[0m \u001b[0mImage\u001b[0m\u001b[1;33m,\u001b[0m \u001b[0mImageChops\u001b[0m\u001b[1;33m,\u001b[0m \u001b[0mImageFile\u001b[0m\u001b[1;33m,\u001b[0m \u001b[0mImagePalette\u001b[0m\u001b[1;33m,\u001b[0m \u001b[0mImageSequence\u001b[0m\u001b[1;33m\u001b[0m\u001b[1;33m\u001b[0m\u001b[0m\n\u001b[0m\u001b[0;32m     43\u001b[0m \u001b[1;32mfrom\u001b[0m \u001b[1;33m.\u001b[0m\u001b[0m_binary\u001b[0m \u001b[1;32mimport\u001b[0m \u001b[0mi16be\u001b[0m \u001b[1;32mas\u001b[0m \u001b[0mi16\u001b[0m\u001b[1;33m\u001b[0m\u001b[1;33m\u001b[0m\u001b[0m\n\u001b[0;32m     44\u001b[0m \u001b[1;32mfrom\u001b[0m \u001b[1;33m.\u001b[0m\u001b[0m_binary\u001b[0m \u001b[1;32mimport\u001b[0m \u001b[0mi32be\u001b[0m \u001b[1;32mas\u001b[0m \u001b[0mi32\u001b[0m\u001b[1;33m\u001b[0m\u001b[1;33m\u001b[0m\u001b[0m\n",
      "\u001b[1;32mc:\\users\\hp\\appdata\\local\\programs\\python\\python38\\lib\\site-packages\\PIL\\ImageFile.py\u001b[0m in \u001b[0;36m<module>\u001b[1;34m\u001b[0m\n\u001b[0;32m     34\u001b[0m \u001b[1;33m\u001b[0m\u001b[0m\n\u001b[0;32m     35\u001b[0m \u001b[1;32mfrom\u001b[0m \u001b[1;33m.\u001b[0m \u001b[1;32mimport\u001b[0m \u001b[0mImage\u001b[0m\u001b[1;33m\u001b[0m\u001b[1;33m\u001b[0m\u001b[0m\n\u001b[1;32m---> 36\u001b[1;33m \u001b[1;32mfrom\u001b[0m \u001b[1;33m.\u001b[0m\u001b[0m_util\u001b[0m \u001b[1;32mimport\u001b[0m \u001b[0mis_path\u001b[0m\u001b[1;33m\u001b[0m\u001b[1;33m\u001b[0m\u001b[0m\n\u001b[0m\u001b[0;32m     37\u001b[0m \u001b[1;33m\u001b[0m\u001b[0m\n\u001b[0;32m     38\u001b[0m \u001b[0mMAXBLOCK\u001b[0m \u001b[1;33m=\u001b[0m \u001b[1;36m65536\u001b[0m\u001b[1;33m\u001b[0m\u001b[1;33m\u001b[0m\u001b[0m\n",
      "\u001b[1;31mImportError\u001b[0m: cannot import name 'is_path' from 'PIL._util' (c:\\users\\hp\\appdata\\local\\programs\\python\\python38\\lib\\site-packages\\PIL\\_util.py)"
     ]
    }
   ],
   "source": [
    "import os\n",
    "import cv2\n",
    "os.environ[\"CUDA_VISIBLE_DEVICES\"]='0'\n",
    "import tensorflow as tf\n",
    "import numpy as np\n",
    "from skimage.io import imread, imshow,imsave\n",
    "from skimage.transform import resize\n",
    "import matplotlib.pyplot as plt\n",
    "from skimage import transform"
   ]
  },
  {
   "cell_type": "code",
   "execution_count": null,
   "metadata": {},
   "outputs": [],
   "source": [
    "IMG_WIDTH = 256\n",
    "IMG_HEIGHT = 256\n",
    "IMG_CHANNELS = 1\n",
    "\n",
    "new_model = tf.keras.models.load_model('C:\\\\模型路径\\\\模型名.h5')\n"
   ]
  },
  {
   "cell_type": "code",
   "execution_count": null,
   "metadata": {},
   "outputs": [],
   "source": [
    "path_pic = '输入图像地址\\\\input'    #图像命名最好是012.jpg，因为程序是按照字符而不是数字读入图像\n",
    "path_list=os.listdir(path_pic)\n",
    "path_list.sort(key=lambda x:int(x[:-4]))\n",
    "data_ids = path_list;\n"
   ]
  },
  {
   "cell_type": "code",
   "execution_count": null,
   "metadata": {},
   "outputs": [],
   "source": [
    "data_ids  ##显示输入图像序号"
   ]
  },
  {
   "cell_type": "code",
   "execution_count": null,
   "metadata": {},
   "outputs": [],
   "source": [
    "path_lab = '真值图像地址\\\\label'\n",
    "path_list2=os.listdir(path_lab)\n",
    "path_list2.sort(key=lambda x:int(x[:-4]))\n",
    "data_ids2 = path_list2;"
   ]
  },
  {
   "cell_type": "code",
   "execution_count": null,
   "metadata": {},
   "outputs": [],
   "source": [
    "data_ids2 #显示真值图像序号"
   ]
  },
  {
   "cell_type": "code",
   "execution_count": 1,
   "metadata": {},
   "outputs": [
    {
     "ename": "NameError",
     "evalue": "name 'data_ids' is not defined",
     "output_type": "error",
     "traceback": [
      "\u001b[1;31m---------------------------------------------------------------------------\u001b[0m",
      "\u001b[1;31mNameError\u001b[0m                                 Traceback (most recent call last)",
      "\u001b[1;32m<ipython-input-1-7b222ea7efa2>\u001b[0m in \u001b[0;36m<module>\u001b[1;34m\u001b[0m\n\u001b[1;32m----> 1\u001b[1;33m \u001b[0mlength\u001b[0m\u001b[1;33m=\u001b[0m\u001b[0mlen\u001b[0m\u001b[1;33m(\u001b[0m\u001b[0mdata_ids\u001b[0m\u001b[1;33m)\u001b[0m\u001b[1;33m\u001b[0m\u001b[1;33m\u001b[0m\u001b[0m\n\u001b[0m\u001b[0;32m      2\u001b[0m \u001b[0mlen\u001b[0m\u001b[1;33m(\u001b[0m\u001b[0mdata_ids2\u001b[0m\u001b[1;33m)\u001b[0m  \u001b[1;31m#查看输入，真值图像数目，两者数量一致\u001b[0m\u001b[1;33m\u001b[0m\u001b[1;33m\u001b[0m\u001b[0m\n",
      "\u001b[1;31mNameError\u001b[0m: name 'data_ids' is not defined"
     ]
    }
   ],
   "source": [
    "length=len(data_ids)\n",
    "len(data_ids2)  #查看输入，真值图像数目，两者数量一致"
   ]
  },
  {
   "cell_type": "code",
   "execution_count": null,
   "metadata": {
    "scrolled": true
   },
   "outputs": [],
   "source": [
    "X_total = np.zeros((length, IMG_HEIGHT, IMG_WIDTH, IMG_CHANNELS))\n",
    "y_total = np.zeros((length, IMG_HEIGHT, IMG_WIDTH, IMG_CHANNELS))\n",
    "for i in range(length):\n",
    "    path_i = path_pic +'\\\\'+ data_ids[i]\n",
    "    print(i)\n",
    "    \n",
    "    img = imread(path_i, as_gray=True);  # [:, :, :IMG_CHANNELS]\n",
    "    print(img.shape);\n",
    "    print(img.max());\n",
    "    img = resize(img, (IMG_HEIGHT, IMG_WIDTH), mode='constant', preserve_range=True);\n",
    "    img = np.expand_dims(img, axis=2); #要求输入图像变成三通道\n",
    "    print(img.shape) #(256,256,1)\n",
    "    X_total[i] = img\n",
    "\n",
    "    y_path_i = path_lab +'\\\\'+ data_ids2[i]\n",
    "    #print(i)\n",
    "    \n",
    "    img1 = imread(y_path_i, as_gray=True)  # [:, :, :IMG_CHANNELS]\n",
    " \n",
    "    img1 = resize(img1, (IMG_HEIGHT, IMG_WIDTH), mode='constant', preserve_range=True);\n",
    "    img1 = np.expand_dims(img1, axis=2); #要求真值图像变成三通道\n",
    "    y_total[i] = img1"
   ]
  },
  {
   "cell_type": "code",
   "execution_count": null,
   "metadata": {},
   "outputs": [],
   "source": [
    "preds = new_model.predict(X_total, verbose=1) ##测试模型，输入的图像只能是(256,256,1)"
   ]
  },
  {
   "cell_type": "code",
   "execution_count": null,
   "metadata": {
    "scrolled": false
   },
   "outputs": [],
   "source": [
    "num = 15  #任选一张图像查看效果\n",
    "out=preds[num]\n",
    "img=X_total[num];\n",
    "img1=y_total[num];\n",
    "img = resize(img, (256, 256), mode='constant', preserve_range=True)\n",
    "img1 = resize(img1, (256, 256), mode='constant', preserve_range=True)\n",
    "plt.figure(num='visualization',figsize=(16,48))  \n",
    "plt.subplot(1,3,1)\n",
    "plt.title(data_ids[num])\n",
    "plt.imshow(X_total[num],plt.cm.hot)\n",
    "plt.xticks([]);plt.yticks([]);\n",
    "plt.subplot(1,3,2)\n",
    "plt.imshow(out,plt.cm.gray)\n",
    "plt.xticks([]);plt.yticks([]);\n",
    "plt.subplot(1,3,3)\n",
    "plt.title(data_ids2[num])\n",
    "plt.imshow(y_total[num],plt.cm.hot)\n",
    "plt.xticks([]);plt.yticks([]);"
   ]
  },
  {
   "cell_type": "code",
   "execution_count": null,
   "metadata": {},
   "outputs": [],
   "source": [
    "for j in range(length):   #显示图像\n",
    "    out=preds[j]\n",
    "    plt.figure(j ,figsize=(16,48))\n",
    "    plt.subplot(1,3,1)\n",
    "    plt.xticks([]);plt.yticks([]);\n",
    "    plt.title(data_ids[j])\n",
    "    plt.imshow(X_total[j],plt.cm.gray)\n",
    "    plt.subplot(1,3,2)\n",
    "    plt.xticks([]);plt.yticks([]);\n",
    "    plt.imshow(out,plt.cm.gray)\n",
    "    plt.subplot(1,3,3)\n",
    "    plt.xticks([]);plt.yticks([]);\n",
    "    plt.title(data_ids2[j])\n",
    "    plt.imshow(y_total[j],plt.cm.gray)"
   ]
  },
  {
   "cell_type": "code",
   "execution_count": null,
   "metadata": {},
   "outputs": [],
   "source": [
    "for j in range(length):   #保存输出图像\n",
    "    plt.figure(j)\n",
    "    plt.subplot()\n",
    "    plt.xticks([]);plt.yticks([]);\n",
    "    img3 = preds[j]\n",
    "    img3 = resize(img3, (900, 1200), mode='constant', preserve_range=True)  #把输出图像的尺寸从256*256变得和输入真值图像相同，我原来是900*1200\n",
    "    plt.imshow(img3,plt.cm.gray)\n",
    "    cv2.imwrite(r'C:\\\\输出图像路径\\\\output'+'\\\\'+str(j)+'.jpg',img3)  #保存输出图像\n"
   ]
  }
 ],
 "metadata": {
  "kernelspec": {
   "display_name": "Python 3",
   "language": "python",
   "name": "python3"
  },
  "language_info": {
   "codemirror_mode": {
    "name": "ipython",
    "version": 3
   },
   "file_extension": ".py",
   "mimetype": "text/x-python",
   "name": "python",
   "nbconvert_exporter": "python",
   "pygments_lexer": "ipython3",
   "version": "3.8.5"
  },
  "vscode": {
   "interpreter": {
    "hash": "8cdb87e125f60fe8315be3f96612a4f42118210c75c7406749d2eea755180e22"
   }
  }
 },
 "nbformat": 4,
 "nbformat_minor": 5
}
